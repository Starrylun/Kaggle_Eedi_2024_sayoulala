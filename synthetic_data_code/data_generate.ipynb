{
 "cells": [
  {
   "cell_type": "code",
   "execution_count": 10,
   "id": "53520445-76e9-4e60-8ddd-8ccb12c4fb70",
   "metadata": {
    "execution": {
     "iopub.execute_input": "2024-10-25T07:43:40.021158Z",
     "iopub.status.busy": "2024-10-25T07:43:40.020827Z",
     "iopub.status.idle": "2024-10-25T07:43:40.039048Z",
     "shell.execute_reply": "2024-10-25T07:43:40.038472Z",
     "shell.execute_reply.started": "2024-10-25T07:43:40.021136Z"
    }
   },
   "outputs": [],
   "source": [
    "from openai import OpenAI\n",
    "import pandas as pd\n",
    "import json\n",
    "import pickle\n",
    "from tqdm.auto import tqdm\n",
    "import requests\n",
    "from sklearn.model_selection import GroupKFold\n",
    "import numpy as np\n",
    "import glob\n",
    "import torch\n",
    "import pickle\n",
    "import time\n",
    "import random\n",
    "def request_openai_chatgpt_version(message, system, temperature=1., top_p=0.8,model_name =\"gpt-4o-2024-05-13\"):\n",
    "    pass\n",
    "    ### your openai code"
   ]
  },
  {
   "cell_type": "code",
   "execution_count": 11,
   "id": "18c700ad-2285-46bd-8378-65774a646630",
   "metadata": {
    "execution": {
     "iopub.execute_input": "2024-10-25T07:43:40.637430Z",
     "iopub.status.busy": "2024-10-25T07:43:40.636960Z",
     "iopub.status.idle": "2024-10-25T07:43:40.639857Z",
     "shell.execute_reply": "2024-10-25T07:43:40.639416Z",
     "shell.execute_reply.started": "2024-10-25T07:43:40.637410Z"
    }
   },
   "outputs": [],
   "source": [
    "path_prefix = \"../data\""
   ]
  },
  {
   "cell_type": "code",
   "execution_count": 12,
   "id": "a7e8cc8c-4067-463c-927a-423937e1ef6b",
   "metadata": {
    "execution": {
     "iopub.execute_input": "2024-10-25T07:43:40.843141Z",
     "iopub.status.busy": "2024-10-25T07:43:40.842717Z",
     "iopub.status.idle": "2024-10-25T07:43:40.873879Z",
     "shell.execute_reply": "2024-10-25T07:43:40.873353Z",
     "shell.execute_reply.started": "2024-10-25T07:43:40.843119Z"
    }
   },
   "outputs": [],
   "source": [
    "train = pd.read_csv(f\"{path_prefix}/train.csv\")\n",
    "test = pd.read_csv(f\"{path_prefix}/test.csv\")\n",
    "sample_submission = pd.read_csv(f\"{path_prefix}/sample_submission.csv\")\n",
    "misconception_mapping = pd.read_csv(f\"{path_prefix}/misconception_mapping.csv\")"
   ]
  },
  {
   "cell_type": "code",
   "execution_count": 13,
   "id": "f9b3fa6d-1e41-4597-a6e9-0233300e572a",
   "metadata": {
    "execution": {
     "iopub.execute_input": "2024-10-25T07:43:41.355744Z",
     "iopub.status.busy": "2024-10-25T07:43:41.355408Z",
     "iopub.status.idle": "2024-10-25T07:43:41.367915Z",
     "shell.execute_reply": "2024-10-25T07:43:41.367392Z",
     "shell.execute_reply.started": "2024-10-25T07:43:41.355725Z"
    }
   },
   "outputs": [
    {
     "data": {
      "text/plain": [
       "((1495, 15), (374, 15))"
      ]
     },
     "execution_count": 13,
     "metadata": {},
     "output_type": "execute_result"
    }
   ],
   "source": [
    "groups = train['QuestionId'].values\n",
    "# 创建 GroupKFold 对象\n",
    "group_kfold = GroupKFold(n_splits=5)\n",
    "train = train.reset_index(drop=True)\n",
    "# 进行分组交叉验证\n",
    "for train_index, test_index in group_kfold.split(train, groups=groups):\n",
    "    tra = train.iloc[train_index,:]\n",
    "    val = train.iloc[test_index,:]\n",
    "    # tra = train\n",
    "    break\n",
    "tra.shape,val.shape"
   ]
  },
  {
   "cell_type": "code",
   "execution_count": 14,
   "id": "f8ac2207-7c26-4e5f-b93f-b94c15177843",
   "metadata": {
    "execution": {
     "iopub.execute_input": "2024-10-25T07:43:41.607299Z",
     "iopub.status.busy": "2024-10-25T07:43:41.606886Z",
     "iopub.status.idle": "2024-10-25T07:43:41.706984Z",
     "shell.execute_reply": "2024-10-25T07:43:41.706526Z",
     "shell.execute_reply.started": "2024-10-25T07:43:41.607279Z"
    }
   },
   "outputs": [],
   "source": [
    "misconception_mapping_dict = {}\n",
    "for _,row in misconception_mapping.iterrows():\n",
    "    misconception_mapping_dict[row['MisconceptionId']] = row['MisconceptionName']"
   ]
  },
  {
   "cell_type": "code",
   "execution_count": 15,
   "id": "70266ad2-09b6-4218-a407-3adede19e0c2",
   "metadata": {
    "execution": {
     "iopub.execute_input": "2024-10-25T07:43:42.466454Z",
     "iopub.status.busy": "2024-10-25T07:43:42.466078Z",
     "iopub.status.idle": "2024-10-25T07:43:42.474818Z",
     "shell.execute_reply": "2024-10-25T07:43:42.474386Z",
     "shell.execute_reply.started": "2024-10-25T07:43:42.466432Z"
    }
   },
   "outputs": [
    {
     "data": {
      "text/plain": [
       "count    2587.000000\n",
       "mean       12.153460\n",
       "std         5.241945\n",
       "min         2.000000\n",
       "25%         8.000000\n",
       "50%        11.000000\n",
       "75%        15.000000\n",
       "max        35.000000\n",
       "Name: MisconceptionName, dtype: float64"
      ]
     },
     "execution_count": 15,
     "metadata": {},
     "output_type": "execute_result"
    }
   ],
   "source": [
    "misconception_mapping['MisconceptionName'].apply(lambda x: len(x.split(' '))).describe()"
   ]
  },
  {
   "cell_type": "code",
   "execution_count": null,
   "id": "40b8b2f3-f560-46b3-b826-506b5c6e7f3b",
   "metadata": {},
   "outputs": [],
   "source": []
  },
  {
   "cell_type": "code",
   "execution_count": 16,
   "id": "a546c0e9-c3d8-44e9-8e06-aa3e58f2b19c",
   "metadata": {
    "execution": {
     "iopub.execute_input": "2024-10-25T07:43:43.183501Z",
     "iopub.status.busy": "2024-10-25T07:43:43.183175Z",
     "iopub.status.idle": "2024-10-25T07:43:43.340285Z",
     "shell.execute_reply": "2024-10-25T07:43:43.339699Z",
     "shell.execute_reply.started": "2024-10-25T07:43:43.183482Z"
    },
    "scrolled": true
   },
   "outputs": [],
   "source": [
    "examples = []\n",
    "for _,row in tra.iterrows():\n",
    "    for c in ['A','B','C','D']:\n",
    "        if str(row[f\"Misconception{c}Id\"])!=\"nan\":\n",
    "            reason=misconception_mapping_dict[row[f\"Misconception{c}Id\"]]\n",
    "            real_answer_id = row['CorrectAnswer']\n",
    "            real_text = row[f'Answer{real_answer_id}Text']\n",
    "            examples.append(f\"SubjectName:{row['SubjectName']}\\nConstructName:{row['ConstructName']}\\nQuestion:{row['QuestionText']}\\nCandidateAnswer:A.{row['AnswerAText']}\\nB.{row['AnswerBText']}\\nC.{row['AnswerCText']}\\nD.{row['AnswerDText']}\\nSelectedAnswer:{c}.{row[f'Answer{c}Text']}\\nCorrectAnswer:{real_answer_id}.{real_text}\\nMisconceptionReason:{reason}\")"
   ]
  },
  {
   "cell_type": "code",
   "execution_count": 17,
   "id": "79e85443-d769-46fa-a7d7-48c2632c644d",
   "metadata": {
    "execution": {
     "iopub.execute_input": "2024-10-25T07:43:45.266110Z",
     "iopub.status.busy": "2024-10-25T07:43:45.265713Z",
     "iopub.status.idle": "2024-10-25T07:43:45.269818Z",
     "shell.execute_reply": "2024-10-25T07:43:45.269345Z",
     "shell.execute_reply.started": "2024-10-25T07:43:45.266090Z"
    }
   },
   "outputs": [],
   "source": [
    "example_str = examples[2] +\"#$%\" +examples[6] + \"#$%\" + examples[12]\n",
    "system_prompt = f\"\"\"You are a mathematician, skilled in various mathematical operations and calculations.\n",
    "Generate similar samples based on the given examples, ensuring there are no contradictions and they are completely logical.\n",
    "Example:\n",
    "{example_str}\n",
    "\"\"\"\n",
    "prompt = f\"\"\"Now given a misconception reason, please generate three different types of samples that meet this misconception reason, ensuring that this is the only reason leading to the incorrect choice. Separate each sample with '#$%'.\n",
    "Misconception Reason:{misconception_mapping_dict[28]}\"\"\""
   ]
  },
  {
   "cell_type": "code",
   "execution_count": 18,
   "id": "bca73041-40ed-459c-8fec-87153807aa28",
   "metadata": {
    "collapsed": true,
    "execution": {
     "iopub.execute_input": "2024-10-25T07:43:48.003498Z",
     "iopub.status.busy": "2024-10-25T07:43:48.003115Z",
     "iopub.status.idle": "2024-10-25T07:43:48.007108Z",
     "shell.execute_reply": "2024-10-25T07:43:48.006665Z",
     "shell.execute_reply.started": "2024-10-25T07:43:48.003478Z"
    },
    "jupyter": {
     "outputs_hidden": true
    }
   },
   "outputs": [
    {
     "data": {
      "text/plain": [
       "\"SubjectName:Simplifying Algebraic Fractions\\nConstructName:Simplify an algebraic fraction by factorising the numerator\\nQuestion:Simplify the following, if possible: \\\\( \\\\frac{m^{2}+2 m-3}{m-3} \\\\)\\nCandidateAnswer:A.\\\\( m+1 \\\\)\\nB.\\\\( m+2 \\\\)\\nC.\\\\( m-1 \\\\)\\nD.Does not simplify\\nSelectedAnswer:B.\\\\( m+2 \\\\)\\nCorrectAnswer:D.Does not simplify\\nMisconceptionReason:Thinks that when you cancel identical terms from the numerator and denominator, they just disappear#$%SubjectName:Range and Interquartile Range from a List of Data\\nConstructName:Calculate the range from a list of data\\nQuestion:Tom and Katie are discussing the \\\\( 5 \\\\) plants with these heights:\\n\\\\( 24 \\\\mathrm{~cm}, 17 \\\\mathrm{~cm}, 42 \\\\mathrm{~cm}, 26 \\\\mathrm{~cm}, 13 \\\\mathrm{~cm} \\\\)\\nTom says if all the plants were cut in half, the range wouldn't change.\\nKatie says if all the plants grew by \\\\( 3 \\\\mathrm{~cm} \\\\) each, the range wouldn't change.\\nWho do you agree with?\\nCandidateAnswer:A.Only\\nTom\\nB.Only\\nKatie\\nC.Both Tom and Katie\\nD.Neither is correct\\nSelectedAnswer:D.Neither is correct\\nCorrectAnswer:B.Only\\nKatie\\nMisconceptionReason:Believes if you add the same value to all numbers in the dataset the range will change#$%SubjectName:Area of Simple Shapes\\nConstructName:Identify a unit of area\\nQuestion:James has answered a question on the area of a trapezium and got an answer of \\\\( 54 \\\\).\\n\\nBehind the star he has written the units that he used.\\n\\n\\\\(\\n54 \\\\, \\\\bigstar \\n\\\\)\\n\\nWhich of the following units could be correct?\\nCandidateAnswer:A.\\\\( m \\\\)\\nB.\\\\( \\\\mathrm{cm} \\\\)\\nC.\\\\( \\\\mathrm{km}^{3} \\\\)\\nD.\\\\( \\\\mathrm{mm}^{2} \\\\)\\nSelectedAnswer:C.\\\\( \\\\mathrm{km}^{3} \\\\)\\nCorrectAnswer:D.\\\\( \\\\mathrm{mm}^{2} \\\\)\\nMisconceptionReason:Does not know units of area should be squared\""
      ]
     },
     "execution_count": 18,
     "metadata": {},
     "output_type": "execute_result"
    }
   ],
   "source": [
    "example_str"
   ]
  },
  {
   "cell_type": "code",
   "execution_count": 8,
   "id": "57b1bbbf-3b7d-4cfa-8220-7f89e769d455",
   "metadata": {
    "execution": {
     "iopub.execute_input": "2024-10-23T07:08:57.504232Z",
     "iopub.status.busy": "2024-10-23T07:08:57.503967Z",
     "iopub.status.idle": "2024-10-23T07:09:04.524285Z",
     "shell.execute_reply": "2024-10-23T07:09:04.523664Z",
     "shell.execute_reply.started": "2024-10-23T07:08:57.504216Z"
    }
   },
   "outputs": [],
   "source": [
    "res = request_openai_chatgpt_version(prompt, system_prompt, temperature=0.1, top_p=0.1,model_name = \"gpt-4o-2024-08-06\")"
   ]
  },
  {
   "cell_type": "code",
   "execution_count": 9,
   "id": "e06d6fa6-3c35-4803-a43e-63cc908bb5e7",
   "metadata": {
    "execution": {
     "iopub.execute_input": "2024-10-23T07:09:04.525287Z",
     "iopub.status.busy": "2024-10-23T07:09:04.525100Z",
     "iopub.status.idle": "2024-10-23T07:09:04.528963Z",
     "shell.execute_reply": "2024-10-23T07:09:04.528482Z",
     "shell.execute_reply.started": "2024-10-23T07:09:04.525270Z"
    }
   },
   "outputs": [
    {
     "data": {
      "text/plain": [
       "('#$%SubjectName:Interior Angles of Polygons\\nConstructName:Calculate the sum of interior angles of a polygon\\nQuestion:What is the sum of the interior angles of a hexagon?\\nCandidateAnswer:A.\\\\( 720^\\\\circ \\\\)\\nB.\\\\( 540^\\\\circ \\\\)\\nC.\\\\( 360^\\\\circ \\\\)\\nD.\\\\( 180^\\\\circ \\\\)\\nSelectedAnswer:C.\\\\( 360^\\\\circ \\\\)\\nCorrectAnswer:A.\\\\( 720^\\\\circ \\\\)\\nMisconceptionReason:Thinks the interior angles of any polygon add up to 360#$%SubjectName:Interior Angles of Polygons\\nConstructName:Identify the sum of interior angles of a polygon\\nQuestion:Calculate the sum of the interior angles of a pentagon.\\nCandidateAnswer:A.\\\\( 540^\\\\circ \\\\)\\nB.\\\\( 360^\\\\circ \\\\)\\nC.\\\\( 720^\\\\circ \\\\)\\nD.\\\\( 180^\\\\circ \\\\)\\nSelectedAnswer:B.\\\\( 360^\\\\circ \\\\)\\nCorrectAnswer:A.\\\\( 540^\\\\circ \\\\)\\nMisconceptionReason:Thinks the interior angles of any polygon add up to 360#$%SubjectName:Interior Angles of Polygons\\nConstructName:Determine the sum of interior angles of a polygon\\nQuestion:Find the sum of the interior angles of an octagon.\\nCandidateAnswer:A.\\\\( 1080^\\\\circ \\\\)\\nB.\\\\( 720^\\\\circ \\\\)\\nC.\\\\( 360^\\\\circ \\\\)\\nD.\\\\( 1440^\\\\circ \\\\)\\nSelectedAnswer:C.\\\\( 360^\\\\circ \\\\)\\nCorrectAnswer:D.\\\\( 1440^\\\\circ \\\\)\\nMisconceptionReason:Thinks the interior angles of any polygon add up to 360',\n",
       " 0.036252)"
      ]
     },
     "execution_count": 9,
     "metadata": {},
     "output_type": "execute_result"
    }
   ],
   "source": [
    "res"
   ]
  },
  {
   "cell_type": "code",
   "execution_count": null,
   "id": "e7987aab-4118-40fa-b46a-e1a97ccd2590",
   "metadata": {
    "execution": {
     "iopub.execute_input": "2024-10-23T07:31:20.642198Z",
     "iopub.status.busy": "2024-10-23T07:31:20.641804Z"
    }
   },
   "outputs": [
    {
     "name": "stderr",
     "output_type": "stream",
     "text": [
      " 64%|██████▎   | 1647/2587 [4:50:50<6:42:44, 25.71s/it]"
     ]
    }
   ],
   "source": [
    "\n",
    "for mp_id,mis_value in tqdm(misconception_mapping_dict.items()):\n",
    "    sample_example = random.sample(examples, 3)\n",
    "    example_str = sample_example[0] +\"#$%\" +sample_example[1] + \"#$%\" + sample_example[2]\n",
    "    system_prompt = f\"\"\"You are a mathematician, skilled in various mathematical operations and calculations.\n",
    "Generate similar samples based on the given examples, ensuring there are no contradictions and they are completely logical.\n",
    "Example:\n",
    "{example_str}\n",
    "\"\"\"\n",
    "    prompt = f\"\"\"Now given a misconception reason, please generate three different types of samples that meet this misconception reason, ensuring that this is the only reason leading to the incorrect choice. Separate each sample with '#$%'.\n",
    "    Misconception Reason:{mis_value}\"\"\"\n",
    "    res = request_openai_chatgpt_version(prompt, system_prompt, temperature=0.01, top_p=0.01,model_name = \"gpt-4o-2024-08-06\")\n",
    "    if res[0] is None:\n",
    "        continue\n",
    "    save_time  = int(time.time())\n",
    "    with open(f\"./save_data/cv1/{mp_id}_{save_time}.pkl\",'wb') as f:\n",
    "        pickle.dump([system_prompt,prompt,res],f)"
   ]
  },
  {
   "cell_type": "code",
   "execution_count": 12,
   "id": "a696f505-c1cf-4bbc-a90a-b434db1a3cde",
   "metadata": {
    "execution": {
     "iopub.execute_input": "2024-10-24T02:23:20.231735Z",
     "iopub.status.busy": "2024-10-24T02:23:20.231392Z",
     "iopub.status.idle": "2024-10-24T02:23:20.235877Z",
     "shell.execute_reply": "2024-10-24T02:23:20.235434Z",
     "shell.execute_reply.started": "2024-10-24T02:23:20.231713Z"
    }
   },
   "outputs": [
    {
     "data": {
      "text/plain": [
       "2586"
      ]
     },
     "execution_count": 12,
     "metadata": {},
     "output_type": "execute_result"
    }
   ],
   "source": [
    "mp_id"
   ]
  },
  {
   "cell_type": "code",
   "execution_count": null,
   "id": "fc41be5b-b010-4afb-9e63-8c4e8306f362",
   "metadata": {},
   "outputs": [],
   "source": []
  }
 ],
 "metadata": {
  "kernelspec": {
   "display_name": "zy_right_right",
   "language": "python",
   "name": "zy_right_right"
  },
  "language_info": {
   "codemirror_mode": {
    "name": "ipython",
    "version": 3
   },
   "file_extension": ".py",
   "mimetype": "text/x-python",
   "name": "python",
   "nbconvert_exporter": "python",
   "pygments_lexer": "ipython3",
   "version": "3.10.14"
  }
 },
 "nbformat": 4,
 "nbformat_minor": 5
}
