{
 "cells": [
  {
   "cell_type": "code",
   "id": "8fe90a31-ee5e-4d74-ae70-311f9fe5cc4f",
   "metadata": {
    "editable": true,
    "execution": {
     "iopub.execute_input": "2024-12-08T03:12:02.341970Z",
     "iopub.status.busy": "2024-12-08T03:12:02.341633Z",
     "iopub.status.idle": "2024-12-08T03:12:22.525606Z",
     "shell.execute_reply": "2024-12-08T03:12:22.524947Z",
     "shell.execute_reply.started": "2024-12-08T03:12:02.341950Z"
    },
    "slideshow": {
     "slide_type": ""
    },
    "tags": [],
    "ExecuteTime": {
     "end_time": "2024-12-21T12:46:54.755246Z",
     "start_time": "2024-12-21T12:46:46.200464Z"
    }
   },
   "source": [
    "from tqdm.auto import tqdm\n",
    "from bs4 import BeautifulSoup\n",
    "import gc\n",
    "import pandas as pd\n",
    "import pickle\n",
    "import sys\n",
    "import numpy as np\n",
    "from tqdm.autonotebook import trange\n",
    "from sklearn.model_selection import GroupKFold\n",
    "import json\n",
    "import torch\n",
    "from numpy.linalg import norm\n",
    "import torch.nn.functional as F\n",
    "from torch import Tensor\n",
    "from transformers import AutoTokenizer, AutoModel\n",
    "from peft import (\n",
    "    LoraConfig,\n",
    "    get_peft_model,\n",
    ")\n",
    "import json\n",
    "import copy\n",
    "import warnings\n",
    "warnings.filterwarnings('ignore')\n",
    "\n",
    "\n",
    "def apk(actual, predicted, k=25):\n",
    "    \"\"\"\n",
    "    Computes the average precision at k.\n",
    "    \n",
    "    This function computes the average prescision at k between two lists of\n",
    "    items.\n",
    "    \n",
    "    Parameters\n",
    "    ----------\n",
    "    actual : list\n",
    "             A list of elements that are to be predicted (order doesn't matter)\n",
    "    predicted : list\n",
    "                A list of predicted elements (order does matter)\n",
    "    k : int, optional\n",
    "        The maximum number of predicted elements\n",
    "        \n",
    "    Returns\n",
    "    -------\n",
    "    score : double\n",
    "            The average precision at k over the input lists\n",
    "    \"\"\"\n",
    "    \n",
    "    if not actual:\n",
    "        return 0.0\n",
    "\n",
    "    if len(predicted)>k:\n",
    "        predicted = predicted[:k]\n",
    "\n",
    "    score = 0.0\n",
    "    num_hits = 0.0\n",
    "\n",
    "    for i,p in enumerate(predicted):\n",
    "        # first condition checks whether it is valid prediction\n",
    "        # second condition checks if prediction is not repeated\n",
    "        if p in actual and p not in predicted[:i]:\n",
    "            num_hits += 1.0\n",
    "            score += num_hits / (i+1.0)\n",
    "\n",
    "    return score / min(len(actual), k)\n",
    "\n",
    "def mapk(actual, predicted, k=25):\n",
    "    \"\"\"\n",
    "    Computes the mean average precision at k.\n",
    "    \n",
    "    This function computes the mean average prescision at k between two lists\n",
    "    of lists of items.\n",
    "    \n",
    "    Parameters\n",
    "    ----------\n",
    "    actual : list\n",
    "             A list of lists of elements that are to be predicted \n",
    "             (order doesn't matter in the lists)\n",
    "    predicted : list\n",
    "                A list of lists of predicted elements\n",
    "                (order matters in the lists)\n",
    "    k : int, optional\n",
    "        The maximum number of predicted elements\n",
    "        \n",
    "    Returns\n",
    "    -------\n",
    "    score : double\n",
    "            The mean average precision at k over the input lists\n",
    "    \"\"\"\n",
    "    \n",
    "    return np.mean([apk(a,p,k) for a,p in zip(actual, predicted)])\n",
    "\n",
    "def batch_to_device(batch, target_device):\n",
    "    \"\"\"\n",
    "    send a pytorch batch to a device (CPU/GPU)\n",
    "    \"\"\"\n",
    "    for key in batch:\n",
    "        if isinstance(batch[key], Tensor):\n",
    "            batch[key] = batch[key].to(target_device)\n",
    "    return batch\n",
    "\n",
    "def last_token_pool(last_hidden_states: Tensor,\n",
    "                    attention_mask: Tensor) -> Tensor:\n",
    "    left_padding = (attention_mask[:, -1].sum() == attention_mask.shape[0])\n",
    "    if left_padding:\n",
    "        return last_hidden_states[:, -1]\n",
    "    else:\n",
    "        sequence_lengths = attention_mask.sum(dim=1) - 1\n",
    "        batch_size = last_hidden_states.shape[0]\n",
    "        return last_hidden_states[torch.arange(batch_size, device=last_hidden_states.device), sequence_lengths]\n",
    "\n",
    "def get_detailed_instruct(task_description: str, query: str) -> str:\n",
    "    return f'Instruct: {task_description}\\nQuery: {query}'\n",
    "\n",
    "def inference(df, model, tokenizer, device):\n",
    "    batch_size = 32\n",
    "    max_length = 512\n",
    "    sentences = list(df['query_text'].values)\n",
    "    pids = list(df['order_index'].values)\n",
    "    all_embeddings = []\n",
    "    length_sorted_idx = np.argsort([-len(sen) for sen in sentences])\n",
    "    sentences_sorted = [sentences[idx] for idx in length_sorted_idx]\n",
    "    for start_index in trange(0, len(sentences), batch_size, desc=\"Batches\", disable=False):\n",
    "        sentences_batch = sentences_sorted[start_index: start_index + batch_size]\n",
    "        features = tokenizer(sentences_batch, max_length=max_length, padding=True, truncation=True,\n",
    "                             return_tensors=\"pt\")\n",
    "        features = batch_to_device(features, device)\n",
    "        with torch.no_grad():\n",
    "            outputs = model(**features)\n",
    "            embeddings = last_token_pool(outputs.last_hidden_state, features['attention_mask'])\n",
    "            embeddings = torch.nn.functional.normalize(embeddings, dim=-1)\n",
    "            embeddings = embeddings.detach().cpu().numpy().tolist()\n",
    "        all_embeddings.extend(embeddings)\n",
    "\n",
    "    all_embeddings = [np.array(all_embeddings[idx]).reshape(1, -1) for idx in np.argsort(length_sorted_idx)]\n",
    "\n",
    "    sentence_embeddings = np.concatenate(all_embeddings, axis=0)\n",
    "    result = {pids[i]: em for i, em in enumerate(sentence_embeddings)}\n",
    "    return result"
   ],
   "outputs": [],
   "execution_count": 1
  },
  {
   "cell_type": "code",
   "execution_count": 2,
   "id": "b0e641c8-501d-467f-9460-0a42aef7e8a5",
   "metadata": {
    "execution": {
     "iopub.execute_input": "2024-12-08T03:12:22.526961Z",
     "iopub.status.busy": "2024-12-08T03:12:22.526483Z",
     "iopub.status.idle": "2024-12-08T03:12:22.529748Z",
     "shell.execute_reply": "2024-12-08T03:12:22.529230Z",
     "shell.execute_reply.started": "2024-12-08T03:12:22.526942Z"
    }
   },
   "outputs": [],
   "source": [
    "path_prefix = \"../data\"\n",
    "model_path=\"./SFR-Embedding-2_R\"\n",
    "device='cuda:0'"
   ]
  },
  {
   "cell_type": "code",
   "execution_count": 3,
   "id": "847ccb19-68c7-4509-875b-8192af00e44b",
   "metadata": {
    "execution": {
     "iopub.execute_input": "2024-12-08T03:12:22.531441Z",
     "iopub.status.busy": "2024-12-08T03:12:22.531185Z",
     "iopub.status.idle": "2024-12-08T03:12:22.560302Z",
     "shell.execute_reply": "2024-12-08T03:12:22.559811Z",
     "shell.execute_reply.started": "2024-12-08T03:12:22.531424Z"
    }
   },
   "outputs": [],
   "source": [
    "train = pd.read_csv(f\"{path_prefix}/train.csv\")\n",
    "test = pd.read_csv(f\"{path_prefix}/test.csv\")\n",
    "sample_submission = pd.read_csv(f\"{path_prefix}/sample_submission.csv\")\n",
    "misconception_mapping = pd.read_csv(f\"{path_prefix}/misconception_mapping.csv\")"
   ]
  },
  {
   "cell_type": "markdown",
   "id": "9b2456c0-7b25-4414-83b2-d4c07c120a19",
   "metadata": {},
   "source": [
    "# load model"
   ]
  },
  {
   "cell_type": "code",
   "execution_count": 4,
   "id": "33fb1da0-d1e5-4af0-89be-e32a9ecf53ef",
   "metadata": {
    "execution": {
     "iopub.execute_input": "2024-12-08T03:12:22.561148Z",
     "iopub.status.busy": "2024-12-08T03:12:22.560981Z",
     "iopub.status.idle": "2024-12-08T03:12:41.935130Z",
     "shell.execute_reply": "2024-12-08T03:12:41.934266Z",
     "shell.execute_reply.started": "2024-12-08T03:12:22.561131Z"
    }
   },
   "outputs": [
    {
     "name": "stderr",
     "output_type": "stream",
     "text": [
      "Loading checkpoint shards: 100%|██████████| 3/3 [00:17<00:00,  5.96s/it]\n"
     ]
    }
   ],
   "source": [
    "tokenizer = AutoTokenizer.from_pretrained(model_path)\n",
    "model = AutoModel.from_pretrained(model_path,device_map=device)\n",
    "model = model.to(torch.float16)\n",
    "model = model.eval()"
   ]
  },
  {
   "cell_type": "markdown",
   "id": "4e5b6f5d-e498-4306-9c94-dd4096ac9480",
   "metadata": {},
   "source": [
    "# 划分数据集"
   ]
  },
  {
   "cell_type": "code",
   "execution_count": 5,
   "id": "2f2ad355-e6d8-4603-b28e-3483225b2272",
   "metadata": {
    "execution": {
     "iopub.execute_input": "2024-12-08T03:12:41.936655Z",
     "iopub.status.busy": "2024-12-08T03:12:41.936253Z",
     "iopub.status.idle": "2024-12-08T03:12:41.952269Z",
     "shell.execute_reply": "2024-12-08T03:12:41.951655Z",
     "shell.execute_reply.started": "2024-12-08T03:12:41.936634Z"
    }
   },
   "outputs": [
    {
     "data": {
      "text/plain": [
       "((1495, 15), (374, 15))"
      ]
     },
     "execution_count": 5,
     "metadata": {},
     "output_type": "execute_result"
    }
   ],
   "source": [
    "groups = train['QuestionId'].values\n",
    "# 创建 GroupKFold 对象\n",
    "group_kfold = GroupKFold(n_splits=5)\n",
    "train = train.reset_index(drop=True)\n",
    "# 进行分组交叉验证\n",
    "for train_index, test_index in group_kfold.split(train, groups=groups):\n",
    "    tra = train.iloc[train_index,:]\n",
    "    val = train.iloc[test_index,:]\n",
    "    # tra = train\n",
    "    break\n",
    "tra.shape,val.shape"
   ]
  },
  {
   "cell_type": "code",
   "execution_count": 6,
   "id": "648bbddc-de9a-4f91-9fe2-81542d43d324",
   "metadata": {
    "execution": {
     "iopub.execute_input": "2024-12-08T03:12:41.953653Z",
     "iopub.status.busy": "2024-12-08T03:12:41.953051Z",
     "iopub.status.idle": "2024-12-08T03:12:41.957272Z",
     "shell.execute_reply": "2024-12-08T03:12:41.956710Z",
     "shell.execute_reply.started": "2024-12-08T03:12:41.953632Z"
    }
   },
   "outputs": [
    {
     "data": {
      "text/plain": [
       "array(['BIDMAS', 'Simplifying Algebraic Fractions',\n",
       "       'Range and Interquartile Range from a List of Data', ..., 'BIDMAS',\n",
       "       'Congruency in Other Shapes', 'Rotation'], dtype=object)"
      ]
     },
     "execution_count": 6,
     "metadata": {},
     "output_type": "execute_result"
    }
   ],
   "source": [
    "train['SubjectName'].values"
   ]
  },
  {
   "cell_type": "markdown",
   "id": "3caef749-a944-413b-8912-1b0a8ffee5c4",
   "metadata": {},
   "source": [
    "# 获得query embedding"
   ]
  },
  {
   "cell_type": "code",
   "execution_count": 7,
   "id": "69d9035b-802b-4d38-805a-09c5787a53df",
   "metadata": {
    "execution": {
     "iopub.execute_input": "2024-12-08T03:12:41.958401Z",
     "iopub.status.busy": "2024-12-08T03:12:41.957975Z",
     "iopub.status.idle": "2024-12-08T03:12:41.962765Z",
     "shell.execute_reply": "2024-12-08T03:12:41.962196Z",
     "shell.execute_reply.started": "2024-12-08T03:12:41.958376Z"
    }
   },
   "outputs": [],
   "source": [
    "task_description = 'Given a math question and a misconcepte incorrect answer, please retrieve the most accurate reason for the misconception.'"
   ]
  },
  {
   "cell_type": "code",
   "execution_count": 8,
   "id": "a73dc8ad-44c6-4276-97aa-2ad4ea7b1c51",
   "metadata": {
    "execution": {
     "iopub.execute_input": "2024-12-08T03:12:41.964017Z",
     "iopub.status.busy": "2024-12-08T03:12:41.963512Z",
     "iopub.status.idle": "2024-12-08T03:12:42.037093Z",
     "shell.execute_reply": "2024-12-08T03:12:42.036486Z",
     "shell.execute_reply.started": "2024-12-08T03:12:41.963998Z"
    },
    "scrolled": true,
    "tags": []
   },
   "outputs": [],
   "source": [
    "tra = pd.read_parquet(\"../create_data/save_data/cv1.parquet\")"
   ]
  },
  {
   "cell_type": "code",
   "execution_count": 9,
   "id": "7ab29358-3dc7-48d4-b9e1-a10467d6895f",
   "metadata": {
    "execution": {
     "iopub.execute_input": "2024-12-08T03:12:42.038001Z",
     "iopub.status.busy": "2024-12-08T03:12:42.037828Z",
     "iopub.status.idle": "2024-12-08T03:12:42.042328Z",
     "shell.execute_reply": "2024-12-08T03:12:42.041834Z",
     "shell.execute_reply.started": "2024-12-08T03:12:42.037984Z"
    }
   },
   "outputs": [
    {
     "data": {
      "text/plain": [
       "2585"
      ]
     },
     "execution_count": 9,
     "metadata": {},
     "output_type": "execute_result"
    }
   ],
   "source": [
    "tra['mis_id'].nunique()"
   ]
  },
  {
   "cell_type": "code",
   "execution_count": null,
   "id": "1ff3ae9a-467d-4e32-8ce9-538201d482a9",
   "metadata": {},
   "outputs": [],
   "source": []
  },
  {
   "cell_type": "code",
   "execution_count": 10,
   "id": "b041eba3-0ccf-47a1-9522-e7d6fa3c9c79",
   "metadata": {
    "execution": {
     "iopub.execute_input": "2024-12-08T03:12:42.043554Z",
     "iopub.status.busy": "2024-12-08T03:12:42.043053Z",
     "iopub.status.idle": "2024-12-08T03:12:47.778234Z",
     "shell.execute_reply": "2024-12-08T03:12:47.777259Z",
     "shell.execute_reply.started": "2024-12-08T03:12:42.043535Z"
    }
   },
   "outputs": [],
   "source": [
    "train_data = []\n",
    "for _,row in tra.iterrows():\n",
    "    real_text = row['CorrectAnswer'].split('.',1)[-1]\n",
    "    SelectedAnswer = row['SelectedAnswer'].split('.',1)[-1]\n",
    "    query_text =f\"###question###:{row['SubjectName']}-{row['ConstructName']}-{row['Question']}\\n###Correct Answer###:{real_text}\\n###Misconcepte Incorrect answer###:{SelectedAnswer}\"\n",
    "    row['query_text'] = get_detailed_instruct(task_description,query_text)\n",
    "    row['answer_id'] = row['mis_id']\n",
    "    train_data.append(copy.deepcopy(row))\n",
    "train_df = pd.DataFrame(train_data)\n",
    "train_df['order_index'] = list(range(len(train_df)))"
   ]
  },
  {
   "cell_type": "code",
   "execution_count": 11,
   "id": "3af5fa67-cf25-42cb-a252-e8ba87959802",
   "metadata": {
    "execution": {
     "iopub.execute_input": "2024-12-08T03:12:47.779541Z",
     "iopub.status.busy": "2024-12-08T03:12:47.779327Z",
     "iopub.status.idle": "2024-12-08T03:12:47.783118Z",
     "shell.execute_reply": "2024-12-08T03:12:47.782575Z",
     "shell.execute_reply.started": "2024-12-08T03:12:47.779523Z"
    },
    "scrolled": true
   },
   "outputs": [],
   "source": [
    "# train_data = []\n",
    "# for _,row in tra.iterrows():\n",
    "#     for c in ['A','B','C','D']:\n",
    "#         if str(row[f\"Misconception{c}Id\"])!=\"nan\":\n",
    "#             real_answer_id = row['CorrectAnswer']\n",
    "#             real_text = row[f'Answer{real_answer_id}Text']\n",
    "#             query_text = f\"###question###:{row['SubjectName']}###{row['ConstructName']}###{row['QuestionText']}\\n###CandidateAnswer:A.{row['AnswerAText']}\\nB.{row['AnswerBText']}\\nC.{row['AnswerCText']}\\nD.{row['AnswerDText']}\\n###CorrectAnswer:{real_answer_id}.{real_text}###distractor answer###:{c}.{row[f'Answer{c}Text']}\"\n",
    "#             row['query_text'] = get_detailed_instruct(task_description,query_text)\n",
    "#             row['answer_id'] = row[f\"Misconception{c}Id\"]\n",
    "#             train_data.append(copy.deepcopy(row))\n",
    "# train_df = pd.DataFrame(train_data)\n",
    "# train_df['order_index'] = list(range(len(train_df)))"
   ]
  },
  {
   "cell_type": "code",
   "execution_count": 12,
   "id": "b5cab8dd-9941-4eac-9ac7-2cb10ac578d2",
   "metadata": {
    "execution": {
     "iopub.execute_input": "2024-12-08T03:12:47.786042Z",
     "iopub.status.busy": "2024-12-08T03:12:47.785508Z",
     "iopub.status.idle": "2024-12-08T03:12:47.809955Z",
     "shell.execute_reply": "2024-12-08T03:12:47.809421Z",
     "shell.execute_reply.started": "2024-12-08T03:12:47.786021Z"
    }
   },
   "outputs": [
    {
     "data": {
      "text/plain": [
       "count    7691.000000\n",
       "mean       51.072032\n",
       "std        13.770476\n",
       "min        26.000000\n",
       "25%        42.000000\n",
       "50%        48.000000\n",
       "75%        57.000000\n",
       "max       177.000000\n",
       "Name: query_text, dtype: float64"
      ]
     },
     "execution_count": 12,
     "metadata": {},
     "output_type": "execute_result"
    }
   ],
   "source": [
    "train_df['query_text'].apply(lambda x: len(x.split(' '))).describe()"
   ]
  },
  {
   "cell_type": "code",
   "execution_count": 13,
   "id": "6c378df9-0825-4219-9724-a44fc46f3055",
   "metadata": {
    "execution": {
     "iopub.execute_input": "2024-12-08T03:12:47.810954Z",
     "iopub.status.busy": "2024-12-08T03:12:47.810780Z",
     "iopub.status.idle": "2024-12-08T03:12:47.814236Z",
     "shell.execute_reply": "2024-12-08T03:12:47.813741Z",
     "shell.execute_reply.started": "2024-12-08T03:12:47.810938Z"
    }
   },
   "outputs": [
    {
     "data": {
      "text/plain": [
       "'Instruct: Given a math question and a misconcepte incorrect answer, please retrieve the most accurate reason for the misconception.\\nQuery: ###question###:Number Properties-Identify prime numbers from a list-Which of the following numbers is a prime number?\\n###Correct Answer###:\\\\( 11 \\\\)\\n###Misconcepte Incorrect answer###:\\\\( 4 \\\\)'"
      ]
     },
     "execution_count": 13,
     "metadata": {},
     "output_type": "execute_result"
    }
   ],
   "source": [
    "train_df['query_text'].values[0]"
   ]
  },
  {
   "cell_type": "markdown",
   "id": "4a40fbe6-e365-4bd7-a216-6f50cf1e92e1",
   "metadata": {},
   "source": [
    "# 推理query embedding"
   ]
  },
  {
   "cell_type": "code",
   "execution_count": 14,
   "id": "1005790b-754c-4879-9efd-2cfc0bf8fa78",
   "metadata": {
    "execution": {
     "iopub.execute_input": "2024-12-08T03:12:47.815235Z",
     "iopub.status.busy": "2024-12-08T03:12:47.814888Z",
     "iopub.status.idle": "2024-12-08T03:16:10.241007Z",
     "shell.execute_reply": "2024-12-08T03:16:10.239849Z",
     "shell.execute_reply.started": "2024-12-08T03:12:47.815218Z"
    }
   },
   "outputs": [
    {
     "name": "stderr",
     "output_type": "stream",
     "text": [
      "Batches: 100%|██████████| 241/241 [03:20<00:00,  1.20it/s]\n"
     ]
    }
   ],
   "source": [
    "train_embeddings = inference(train_df, model, tokenizer, device)"
   ]
  },
  {
   "cell_type": "code",
   "execution_count": 15,
   "id": "8a22f648-dcab-4e95-9624-4d2fd4ebb915",
   "metadata": {
    "execution": {
     "iopub.execute_input": "2024-12-08T03:16:10.242659Z",
     "iopub.status.busy": "2024-12-08T03:16:10.242249Z",
     "iopub.status.idle": "2024-12-08T03:16:25.281513Z",
     "shell.execute_reply": "2024-12-08T03:16:25.280391Z",
     "shell.execute_reply.started": "2024-12-08T03:16:10.242637Z"
    }
   },
   "outputs": [
    {
     "name": "stderr",
     "output_type": "stream",
     "text": [
      "Batches: 100%|██████████| 81/81 [00:14<00:00,  5.60it/s]\n"
     ]
    }
   ],
   "source": [
    "misconception_mapping['query_text'] = misconception_mapping['MisconceptionName']\n",
    "misconception_mapping['order_index'] = misconception_mapping['MisconceptionId']\n",
    "doc_embeddings = inference(misconception_mapping, model, tokenizer, device)"
   ]
  },
  {
   "cell_type": "code",
   "execution_count": 16,
   "id": "73b2812d-0a2f-409a-ac71-03dac747aff8",
   "metadata": {
    "execution": {
     "iopub.execute_input": "2024-12-08T03:16:25.283119Z",
     "iopub.status.busy": "2024-12-08T03:16:25.282731Z",
     "iopub.status.idle": "2024-12-08T03:16:25.310974Z",
     "shell.execute_reply": "2024-12-08T03:16:25.310292Z",
     "shell.execute_reply.started": "2024-12-08T03:16:25.283097Z"
    }
   },
   "outputs": [],
   "source": [
    "sentence_embeddings = np.concatenate([e.reshape(1, -1) for e in list(doc_embeddings.values())])\n",
    "index_text_embeddings_index = {index: paper_id for index, paper_id in\n",
    "                                         enumerate(list(doc_embeddings.keys()))}"
   ]
  },
  {
   "cell_type": "markdown",
   "id": "dc19d0ea-733a-4413-b287-0d834562c9a1",
   "metadata": {},
   "source": [
    "# 召回文本topn"
   ]
  },
  {
   "cell_type": "code",
   "execution_count": null,
   "id": "1fbbb4b6-f257-4981-ab14-0c5dde0277f4",
   "metadata": {},
   "outputs": [],
   "source": []
  },
  {
   "cell_type": "code",
   "execution_count": 17,
   "id": "66e29a87-e2bf-4f0a-8749-c4696f5f620e",
   "metadata": {
    "execution": {
     "iopub.execute_input": "2024-12-08T03:16:25.312214Z",
     "iopub.status.busy": "2024-12-08T03:16:25.311743Z",
     "iopub.status.idle": "2024-12-08T03:16:29.357039Z",
     "shell.execute_reply": "2024-12-08T03:16:29.356035Z",
     "shell.execute_reply.started": "2024-12-08T03:16:25.312194Z"
    }
   },
   "outputs": [
    {
     "name": "stderr",
     "output_type": "stream",
     "text": [
      "7691it [00:04, 1904.89it/s]\n"
     ]
    }
   ],
   "source": [
    "predicts_test = []\n",
    "for _, row in tqdm(train_df.iterrows()):\n",
    "    query_id = row['order_index']\n",
    "    query_em = train_embeddings[query_id].reshape(1, -1)\n",
    "    \n",
    "    # 计算点积\n",
    "    cosine_similarity = np.dot(query_em, sentence_embeddings.T).flatten()\n",
    "    \n",
    "    # 对余弦相似度进行排序并获取前100个索引\n",
    "    sort_index = np.argsort(-cosine_similarity)[:100]\n",
    "    pids = [index_text_embeddings_index[index] for index in sort_index]\n",
    "    predicts_test.append(pids)"
   ]
  },
  {
   "cell_type": "code",
   "execution_count": 18,
   "id": "95d0c6cd-4d33-4ad6-b4e7-0a0699181832",
   "metadata": {
    "execution": {
     "iopub.execute_input": "2024-12-08T03:16:29.358640Z",
     "iopub.status.busy": "2024-12-08T03:16:29.358214Z",
     "iopub.status.idle": "2024-12-08T03:16:29.364070Z",
     "shell.execute_reply": "2024-12-08T03:16:29.363476Z",
     "shell.execute_reply.started": "2024-12-08T03:16:29.358616Z"
    }
   },
   "outputs": [],
   "source": [
    "train_df['recall_ids'] = predicts_test"
   ]
  },
  {
   "cell_type": "code",
   "execution_count": 19,
   "id": "fd34d04a-cbc8-4020-bd8e-5ff31662b414",
   "metadata": {
    "execution": {
     "iopub.execute_input": "2024-12-08T03:16:29.365164Z",
     "iopub.status.busy": "2024-12-08T03:16:29.364800Z",
     "iopub.status.idle": "2024-12-08T03:16:29.393287Z",
     "shell.execute_reply": "2024-12-08T03:16:29.392722Z",
     "shell.execute_reply.started": "2024-12-08T03:16:29.365144Z"
    }
   },
   "outputs": [
    {
     "data": {
      "text/plain": [
       "0.35846623332326505"
      ]
     },
     "execution_count": 19,
     "metadata": {},
     "output_type": "execute_result"
    }
   ],
   "source": [
    "mapk([[data] for data in train_df['answer_id'].values],train_df['recall_ids'].values)"
   ]
  },
  {
   "cell_type": "code",
   "execution_count": 20,
   "id": "a7397c0e-cf50-45d9-a251-9c86efe830fe",
   "metadata": {
    "execution": {
     "iopub.execute_input": "2024-12-08T03:16:29.394502Z",
     "iopub.status.busy": "2024-12-08T03:16:29.393998Z",
     "iopub.status.idle": "2024-12-08T03:16:29.406103Z",
     "shell.execute_reply": "2024-12-08T03:16:29.405553Z",
     "shell.execute_reply.started": "2024-12-08T03:16:29.394483Z"
    }
   },
   "outputs": [
    {
     "data": {
      "text/plain": [
       "0.8361721492653751"
      ]
     },
     "execution_count": 20,
     "metadata": {},
     "output_type": "execute_result"
    }
   ],
   "source": [
    "def recall_score(reals,recalls,k=100):\n",
    "    res = 0.\n",
    "    for i in range(len(reals)):\n",
    "        real = reals[i][0]\n",
    "        for c in recalls[i][:k]:\n",
    "            if c==real:\n",
    "                res+=1\n",
    "                break\n",
    "    return res/len(reals)\n",
    "recall_score([[data] for data in train_df['answer_id'].values],train_df['recall_ids'].values,k=40)"
   ]
  },
  {
   "cell_type": "markdown",
   "id": "3d859345-bcc7-4970-b8cb-1ab33bda828c",
   "metadata": {},
   "source": [
    "# 构建训练集"
   ]
  },
  {
   "cell_type": "code",
   "execution_count": 21,
   "id": "78cdfc27-7c33-4c64-841c-39dd3ab2a727",
   "metadata": {
    "execution": {
     "iopub.execute_input": "2024-12-08T03:16:29.407149Z",
     "iopub.status.busy": "2024-12-08T03:16:29.406791Z",
     "iopub.status.idle": "2024-12-08T03:16:30.508185Z",
     "shell.execute_reply": "2024-12-08T03:16:30.507361Z",
     "shell.execute_reply.started": "2024-12-08T03:16:29.407131Z"
    },
    "scrolled": true
   },
   "outputs": [],
   "source": [
    "bge_train = []\n",
    "cnt = 100\n",
    "for _, row in train_df.iterrows():\n",
    "    query = row['query_text']\n",
    "    pos = [int(row['answer_id'])]\n",
    "    neg = []\n",
    "    hard_negative_ctxs = row['recall_ids'][:cnt]\n",
    "    for data in hard_negative_ctxs:\n",
    "        if data!=pos[0]:\n",
    "            neg.append(int(data))\n",
    "    bge_train.append({'query': query, 'pos': pos, 'neg': neg})\n",
    "with open(f\"../train_data/recall_v9_gen/train.jsonl\", 'w') as f:\n",
    "    json.dump(bge_train, f)"
   ]
  },
  {
   "cell_type": "code",
   "execution_count": null,
   "id": "b4aa1cda-cbc9-40d6-bd77-0b2f049f6ba1",
   "metadata": {},
   "outputs": [],
   "source": []
  },
  {
   "cell_type": "code",
   "execution_count": null,
   "id": "dfc915b3-b28b-41ac-8785-5abf0437ff8e",
   "metadata": {},
   "outputs": [],
   "source": []
  },
  {
   "cell_type": "code",
   "execution_count": null,
   "id": "a63dbe04-32a5-4d2c-bc97-9412691b49a1",
   "metadata": {},
   "outputs": [],
   "source": []
  }
 ],
 "metadata": {
  "kernelspec": {
   "display_name": "Python 3 (ipykernel)",
   "language": "python",
   "name": "python3"
  },
  "language_info": {
   "codemirror_mode": {
    "name": "ipython",
    "version": 3
   },
   "file_extension": ".py",
   "mimetype": "text/x-python",
   "name": "python",
   "nbconvert_exporter": "python",
   "pygments_lexer": "ipython3",
   "version": "3.8.15"
  }
 },
 "nbformat": 4,
 "nbformat_minor": 5
}
