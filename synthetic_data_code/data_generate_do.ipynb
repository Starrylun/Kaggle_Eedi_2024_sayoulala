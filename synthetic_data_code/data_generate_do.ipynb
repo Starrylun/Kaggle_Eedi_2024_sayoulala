{
 "cells": [
  {
   "cell_type": "code",
   "execution_count": 141,
   "id": "53520445-76e9-4e60-8ddd-8ccb12c4fb70",
   "metadata": {
    "execution": {
     "iopub.execute_input": "2024-10-24T06:00:53.691496Z",
     "iopub.status.busy": "2024-10-24T06:00:53.690824Z",
     "iopub.status.idle": "2024-10-24T06:00:53.707021Z",
     "shell.execute_reply": "2024-10-24T06:00:53.706542Z",
     "shell.execute_reply.started": "2024-10-24T06:00:53.691470Z"
    }
   },
   "outputs": [],
   "source": [
    "from openai import OpenAI\n",
    "import pandas as pd\n",
    "import json\n",
    "import pickle\n",
    "from tqdm.auto import tqdm\n",
    "import requests\n",
    "from sklearn.model_selection import GroupKFold\n",
    "import numpy as np\n",
    "import glob\n",
    "import torch\n",
    "import pickle\n",
    "import time\n",
    "import random"
   ]
  },
  {
   "cell_type": "code",
   "execution_count": 142,
   "id": "18c700ad-2285-46bd-8378-65774a646630",
   "metadata": {
    "execution": {
     "iopub.execute_input": "2024-10-24T06:00:54.144815Z",
     "iopub.status.busy": "2024-10-24T06:00:54.144221Z",
     "iopub.status.idle": "2024-10-24T06:00:54.325119Z",
     "shell.execute_reply": "2024-10-24T06:00:54.324632Z",
     "shell.execute_reply.started": "2024-10-24T06:00:54.144797Z"
    }
   },
   "outputs": [],
   "source": [
    "path_prefix = \"../data\"\n",
    "train = pd.read_csv(f\"{path_prefix}/train.csv\")\n",
    "test = pd.read_csv(f\"{path_prefix}/test.csv\")\n",
    "sample_submission = pd.read_csv(f\"{path_prefix}/sample_submission.csv\")\n",
    "misconception_mapping = pd.read_csv(f\"{path_prefix}/misconception_mapping.csv\")\n",
    "misconception_mapping_dict = {}\n",
    "for _,row in misconception_mapping.iterrows():\n",
    "    misconception_mapping_dict[row['MisconceptionId']] = row['MisconceptionName']"
   ]
  },
  {
   "cell_type": "code",
   "execution_count": 143,
   "id": "da6906da-531d-4bc7-97f4-4274bdc18b9b",
   "metadata": {
    "execution": {
     "iopub.execute_input": "2024-10-24T06:00:54.957173Z",
     "iopub.status.busy": "2024-10-24T06:00:54.956850Z",
     "iopub.status.idle": "2024-10-24T06:01:55.955297Z",
     "shell.execute_reply": "2024-10-24T06:01:55.954707Z",
     "shell.execute_reply.started": "2024-10-24T06:00:54.957154Z"
    }
   },
   "outputs": [],
   "source": [
    "datas = []\n",
    "for path in tqdm(glob.glob(\"./save_data/cv1/*.pkl\")):\n",
    "    with open(path,'rb') as f:\n",
    "        data = pickle.load(f)\n",
    "    datas.append((data,path))"
   ]
  },
  {
   "cell_type": "code",
   "execution_count": 144,
   "id": "bef9f4a2-b45c-4813-acb4-fb68197695b0",
   "metadata": {
    "execution": {
     "iopub.execute_input": "2024-10-24T06:01:55.956574Z",
     "iopub.status.busy": "2024-10-24T06:01:55.956272Z",
     "iopub.status.idle": "2024-10-24T06:01:56.011239Z",
     "shell.execute_reply": "2024-10-24T06:01:56.010782Z",
     "shell.execute_reply.started": "2024-10-24T06:01:55.956556Z"
    }
   },
   "outputs": [],
   "source": [
    "df = []\n",
    "for d,path in datas:\n",
    "    mis_id = int(path.split(\"/\")[-1].split(\"_\",1)[0])\n",
    "    mis_text = misconception_mapping_dict[mis_id]\n",
    "    text = d[-1][0].strip('\\n').strip()\n",
    "    text_list = text.split(\"#$%\")\n",
    "    for text in text_list:\n",
    "        try:\n",
    "            subject_name = text.split(\"SubjectName:\",1)[1].split(\"ConstructName:\",1)[0].strip(\"\\n\").strip()\n",
    "            construct_name = text.split(\"ConstructName:\",1)[1].split(\"Question:\",1)[0].strip(\"\\n\").strip()\n",
    "            question = text.split(\"Question:\",1)[1].split(\"CandidateAnswer:\",1)[0].strip(\"\\n\").strip()\n",
    "            correct_answer = text.split(\"CorrectAnswer:\",1)[1].split(\"MisconceptionReason:\",1)[0].strip(\"\\n\").strip()\n",
    "            candidate_answer = text.split(\"Answer:\",1)[1].split(\"SelectedAnswer:\",1)[0].strip(\"\\n\").strip()\n",
    "            selected_answer = text.split(\"SelectedAnswer:\",1)[1].split(\"CorrectAnswer:\",1)[0].strip(\"\\n\").strip()\n",
    "            df.append({\n",
    "                \"SubjectName\": subject_name,\n",
    "                \"ConstructName\": construct_name,\n",
    "                \"Question\": question,\n",
    "                \"CandidateAnswer\": candidate_answer,\n",
    "                \"SelectedAnswer\": selected_answer,\n",
    "                \"CorrectAnswer\": correct_answer,\n",
    "                \"mis_id\":mis_id\n",
    "            })\n",
    "        except:\n",
    "            continue\n",
    "df = pd.DataFrame(df)"
   ]
  },
  {
   "cell_type": "code",
   "execution_count": 145,
   "id": "5d8dcf91-650b-4f35-89dd-3baf0b0672bd",
   "metadata": {
    "execution": {
     "iopub.execute_input": "2024-10-24T06:01:56.012305Z",
     "iopub.status.busy": "2024-10-24T06:01:56.011871Z",
     "iopub.status.idle": "2024-10-24T06:01:56.197668Z",
     "shell.execute_reply": "2024-10-24T06:01:56.197216Z",
     "shell.execute_reply.started": "2024-10-24T06:01:56.012287Z"
    }
   },
   "outputs": [],
   "source": [
    "df.to_parquet('save_data/cv1.parquet',index=False)"
   ]
  },
  {
   "cell_type": "code",
   "execution_count": 146,
   "id": "f0751b84-d397-49e4-8618-f1ad380eafa4",
   "metadata": {
    "execution": {
     "iopub.execute_input": "2024-10-24T06:01:56.199064Z",
     "iopub.status.busy": "2024-10-24T06:01:56.198599Z",
     "iopub.status.idle": "2024-10-24T06:01:56.202114Z",
     "shell.execute_reply": "2024-10-24T06:01:56.201729Z",
     "shell.execute_reply.started": "2024-10-24T06:01:56.199047Z"
    }
   },
   "outputs": [
    {
     "data": {
      "text/plain": [
       "(7691, 7)"
      ]
     },
     "execution_count": 146,
     "metadata": {},
     "output_type": "execute_result"
    }
   ],
   "source": [
    "df.shape"
   ]
  },
  {
   "cell_type": "code",
   "execution_count": null,
   "id": "916bab2c-fba6-49ab-86e5-61c177ff4b24",
   "metadata": {},
   "outputs": [],
   "source": []
  },
  {
   "cell_type": "code",
   "execution_count": null,
   "id": "5e191616-8347-4d3b-8bc2-0dccf197e57e",
   "metadata": {},
   "outputs": [],
   "source": []
  },
  {
   "cell_type": "code",
   "execution_count": null,
   "id": "14dbc337-ea51-488a-be92-6d81349d438b",
   "metadata": {},
   "outputs": [],
   "source": []
  }
 ],
 "metadata": {
  "kernelspec": {
   "display_name": "Python 3 (ipykernel)",
   "language": "python",
   "name": "python3"
  },
  "language_info": {
   "codemirror_mode": {
    "name": "ipython",
    "version": 3
   },
   "file_extension": ".py",
   "mimetype": "text/x-python",
   "name": "python",
   "nbconvert_exporter": "python",
   "pygments_lexer": "ipython3",
   "version": "3.10.14"
  }
 },
 "nbformat": 4,
 "nbformat_minor": 5
}
